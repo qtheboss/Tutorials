{
 "metadata": {
  "name": ""
 },
 "nbformat": 3,
 "nbformat_minor": 0,
 "worksheets": [
  {
   "cells": [
    {
     "cell_type": "code",
     "collapsed": false,
     "input": [
      "import pandas as pd\n",
      "# Load the data\n",
      "dsProgReports = pd.read_csv('data/School_Progress_Reports_-_All_Schools_-_2009-10.csv')\n",
      "dsDistrict = pd.read_csv('data/School_District_Breakdowns.csv')\n",
      "dsClassSize = pd.read_csv('data/2009-10_Class_Size_-_School-level_Detail.csv')\n",
      "dsAttendEnroll = pd.read_csv('data/School_Attendance_and_Enrollment_Statistics_by_District__2010-11_.csv')[:-2] #last two rows are bad\n",
      "dsSATs = pd.read_csv('data/SAT__College_Board__2010_School_Level_Results.csv') # Dependent"
     ],
     "language": "python",
     "metadata": {},
     "outputs": [],
     "prompt_number": 2
    },
    {
     "cell_type": "code",
     "collapsed": false,
     "input": [
      "dsSATs"
     ],
     "language": "python",
     "metadata": {},
     "outputs": [
      {
       "html": [
        "<pre>\n",
        "&lt;class 'pandas.core.frame.DataFrame'&gt;\n",
        "Int64Index: 460 entries, 0 to 459\n",
        "Data columns (total 6 columns):\n",
        "DBN                      460  non-null values\n",
        "School Name              460  non-null values\n",
        "Number of Test Takers    460  non-null values\n",
        "Critical Reading Mean    460  non-null values\n",
        "Mathematics Mean         460  non-null values\n",
        "Writing Mean             460  non-null values\n",
        "dtypes: object(6)\n",
        "</pre>"
       ],
       "metadata": {},
       "output_type": "pyout",
       "prompt_number": 3,
       "text": [
        "<class 'pandas.core.frame.DataFrame'>\n",
        "Int64Index: 460 entries, 0 to 459\n",
        "Data columns (total 6 columns):\n",
        "DBN                      460  non-null values\n",
        "School Name              460  non-null values\n",
        "Number of Test Takers    460  non-null values\n",
        "Critical Reading Mean    460  non-null values\n",
        "Mathematics Mean         460  non-null values\n",
        "Writing Mean             460  non-null values\n",
        "dtypes: object(6)"
       ]
      }
     ],
     "prompt_number": 3
    },
    {
     "cell_type": "code",
     "collapsed": false,
     "input": [
      "pd.DataFrame(data=[dsProgReports['DBN'].take(range(5)), dsSATs['DBN'].take(range(5)), dsClassSize['SCHOOL CODE'].take(range(5))])"
     ],
     "language": "python",
     "metadata": {},
     "outputs": [
      {
       "html": [
        "<div style=\"max-height:1000px;max-width:1500px;overflow:auto;\">\n",
        "<table border=\"1\" class=\"dataframe\">\n",
        "  <thead>\n",
        "    <tr style=\"text-align: right;\">\n",
        "      <th></th>\n",
        "      <th>0</th>\n",
        "      <th>1</th>\n",
        "      <th>2</th>\n",
        "      <th>3</th>\n",
        "      <th>4</th>\n",
        "    </tr>\n",
        "  </thead>\n",
        "  <tbody>\n",
        "    <tr>\n",
        "      <th>DBN</th>\n",
        "      <td> 01M015</td>\n",
        "      <td> 01M019</td>\n",
        "      <td> 01M020</td>\n",
        "      <td> 01M034</td>\n",
        "      <td> 01M063</td>\n",
        "    </tr>\n",
        "    <tr>\n",
        "      <th>DBN</th>\n",
        "      <td> 01M292</td>\n",
        "      <td> 01M448</td>\n",
        "      <td> 01M450</td>\n",
        "      <td> 01M458</td>\n",
        "      <td> 01M509</td>\n",
        "    </tr>\n",
        "    <tr>\n",
        "      <th>SCHOOL CODE</th>\n",
        "      <td>   M015</td>\n",
        "      <td>   M015</td>\n",
        "      <td>   M015</td>\n",
        "      <td>   M015</td>\n",
        "      <td>   M015</td>\n",
        "    </tr>\n",
        "  </tbody>\n",
        "</table>\n",
        "</div>"
       ],
       "metadata": {},
       "output_type": "pyout",
       "prompt_number": 4,
       "text": [
        "                  0       1       2       3       4\n",
        "DBN          01M015  01M019  01M020  01M034  01M063\n",
        "DBN          01M292  01M448  01M450  01M458  01M509\n",
        "SCHOOL CODE    M015    M015    M015    M015    M015"
       ]
      }
     ],
     "prompt_number": 4
    },
    {
     "cell_type": "code",
     "collapsed": false,
     "input": [
      "#Strip the first two characters off the DBNs so we can join to School Code\n",
      "dsProgReports.DBN = dsProgReports.DBN.map(lambda x: x[2:])\n",
      "dsSATs.DBN = dsSATs.DBN.map(lambda x: x[2:])\n",
      "\n",
      "#We can now see the keys match\n",
      "pd.DataFrame(data=[dsProgReports['DBN'].take(range(5)), dsSATs['DBN'].take(range(5)), dsClassSize['SCHOOL CODE'].take(range(5))])"
     ],
     "language": "python",
     "metadata": {},
     "outputs": [
      {
       "html": [
        "<div style=\"max-height:1000px;max-width:1500px;overflow:auto;\">\n",
        "<table border=\"1\" class=\"dataframe\">\n",
        "  <thead>\n",
        "    <tr style=\"text-align: right;\">\n",
        "      <th></th>\n",
        "      <th>0</th>\n",
        "      <th>1</th>\n",
        "      <th>2</th>\n",
        "      <th>3</th>\n",
        "      <th>4</th>\n",
        "    </tr>\n",
        "  </thead>\n",
        "  <tbody>\n",
        "    <tr>\n",
        "      <th>DBN</th>\n",
        "      <td> M015</td>\n",
        "      <td> M019</td>\n",
        "      <td> M020</td>\n",
        "      <td> M034</td>\n",
        "      <td> M063</td>\n",
        "    </tr>\n",
        "    <tr>\n",
        "      <th>DBN</th>\n",
        "      <td> M292</td>\n",
        "      <td> M448</td>\n",
        "      <td> M450</td>\n",
        "      <td> M458</td>\n",
        "      <td> M509</td>\n",
        "    </tr>\n",
        "    <tr>\n",
        "      <th>SCHOOL CODE</th>\n",
        "      <td> M015</td>\n",
        "      <td> M015</td>\n",
        "      <td> M015</td>\n",
        "      <td> M015</td>\n",
        "      <td> M015</td>\n",
        "    </tr>\n",
        "  </tbody>\n",
        "</table>\n",
        "</div>"
       ],
       "metadata": {},
       "output_type": "pyout",
       "prompt_number": 5,
       "text": [
        "                0     1     2     3     4\n",
        "DBN          M015  M019  M020  M034  M063\n",
        "DBN          M292  M448  M450  M458  M509\n",
        "SCHOOL CODE  M015  M015  M015  M015  M015"
       ]
      }
     ],
     "prompt_number": 5
    },
    {
     "cell_type": "code",
     "collapsed": false,
     "input": [
      "#Show the key mismatchs\n",
      "#For variety's sake, using slicing ([:3]) syntax instead of .take()\n",
      "pd.DataFrame(data=[dsProgReports['DISTRICT'][:3], dsDistrict['JURISDICTION NAME'][:3], dsAttendEnroll['District'][:3]])"
     ],
     "language": "python",
     "metadata": {},
     "outputs": [
      {
       "html": [
        "<div style=\"max-height:1000px;max-width:1500px;overflow:auto;\">\n",
        "<table border=\"1\" class=\"dataframe\">\n",
        "  <thead>\n",
        "    <tr style=\"text-align: right;\">\n",
        "      <th></th>\n",
        "      <th>0</th>\n",
        "      <th>1</th>\n",
        "      <th>2</th>\n",
        "    </tr>\n",
        "  </thead>\n",
        "  <tbody>\n",
        "    <tr>\n",
        "      <th>DISTRICT</th>\n",
        "      <td>                1</td>\n",
        "      <td>                1</td>\n",
        "      <td>                1</td>\n",
        "    </tr>\n",
        "    <tr>\n",
        "      <th>JURISDICTION NAME</th>\n",
        "      <td> CSD 01 Manhattan</td>\n",
        "      <td> CSD 02 Manhattan</td>\n",
        "      <td> CSD 03 Manhattan</td>\n",
        "    </tr>\n",
        "    <tr>\n",
        "      <th>District</th>\n",
        "      <td>      DISTRICT 01</td>\n",
        "      <td>      DISTRICT 02</td>\n",
        "      <td>      DISTRICT 03</td>\n",
        "    </tr>\n",
        "  </tbody>\n",
        "</table>\n",
        "</div>"
       ],
       "metadata": {},
       "output_type": "pyout",
       "prompt_number": 6,
       "text": [
        "                                  0                 1                 2\n",
        "DISTRICT                          1                 1                 1\n",
        "JURISDICTION NAME  CSD 01 Manhattan  CSD 02 Manhattan  CSD 03 Manhattan\n",
        "District                DISTRICT 01       DISTRICT 02       DISTRICT 03"
       ]
      }
     ],
     "prompt_number": 6
    },
    {
     "cell_type": "code",
     "collapsed": false,
     "input": [
      "#Extract well-formed district key values\n",
      "#Note the astype(int) at the end of these lines to coerce the column to a numeric type\n",
      "import re\n",
      "dsDistrict['JURISDICTION NAME'] = dsDistrict['JURISDICTION NAME'].map(lambda x: re.match('([A-Za-z]*\\s)([0-9]*)', x).group(2)).astype(int)\n",
      "dsAttendEnroll.District = dsAttendEnroll.District.map(lambda x: x[-2:]).astype(int)"
     ],
     "language": "python",
     "metadata": {},
     "outputs": [
      {
       "ename": "TypeError",
       "evalue": "expected string or buffer",
       "output_type": "pyerr",
       "traceback": [
        "\u001b[1;31m---------------------------------------------------------------------------\u001b[0m\n\u001b[1;31mTypeError\u001b[0m                                 Traceback (most recent call last)",
        "\u001b[1;32m<ipython-input-21-8012a355c195>\u001b[0m in \u001b[0;36m<module>\u001b[1;34m()\u001b[0m\n\u001b[0;32m      2\u001b[0m \u001b[1;31m#Note the astype(int) at the end of these lines to coerce the column to a numeric type\u001b[0m\u001b[1;33m\u001b[0m\u001b[1;33m\u001b[0m\u001b[0m\n\u001b[0;32m      3\u001b[0m \u001b[1;32mimport\u001b[0m \u001b[0mre\u001b[0m\u001b[1;33m\u001b[0m\u001b[0m\n\u001b[1;32m----> 4\u001b[1;33m \u001b[0mdsDistrict\u001b[0m\u001b[1;33m[\u001b[0m\u001b[1;34m'JURISDICTION NAME'\u001b[0m\u001b[1;33m]\u001b[0m \u001b[1;33m=\u001b[0m \u001b[0mdsDistrict\u001b[0m\u001b[1;33m[\u001b[0m\u001b[1;34m'JURISDICTION NAME'\u001b[0m\u001b[1;33m]\u001b[0m\u001b[1;33m.\u001b[0m\u001b[0mmap\u001b[0m\u001b[1;33m(\u001b[0m\u001b[1;32mlambda\u001b[0m \u001b[0mx\u001b[0m\u001b[1;33m:\u001b[0m \u001b[0mre\u001b[0m\u001b[1;33m.\u001b[0m\u001b[0mmatch\u001b[0m\u001b[1;33m(\u001b[0m\u001b[1;34m'([A-Za-z]*\\s)([0-9]*)'\u001b[0m\u001b[1;33m,\u001b[0m \u001b[0mx\u001b[0m\u001b[1;33m)\u001b[0m\u001b[1;33m.\u001b[0m\u001b[0mgroup\u001b[0m\u001b[1;33m(\u001b[0m\u001b[1;36m2\u001b[0m\u001b[1;33m)\u001b[0m\u001b[1;33m)\u001b[0m\u001b[1;33m.\u001b[0m\u001b[0mastype\u001b[0m\u001b[1;33m(\u001b[0m\u001b[0mint\u001b[0m\u001b[1;33m)\u001b[0m\u001b[1;33m\u001b[0m\u001b[0m\n\u001b[0m\u001b[0;32m      5\u001b[0m \u001b[0mdsAttendEnroll\u001b[0m\u001b[1;33m.\u001b[0m\u001b[0mDistrict\u001b[0m \u001b[1;33m=\u001b[0m \u001b[0mdsAttendEnroll\u001b[0m\u001b[1;33m.\u001b[0m\u001b[0mDistrict\u001b[0m\u001b[1;33m.\u001b[0m\u001b[0mmap\u001b[0m\u001b[1;33m(\u001b[0m\u001b[1;32mlambda\u001b[0m \u001b[0mx\u001b[0m\u001b[1;33m:\u001b[0m \u001b[0mx\u001b[0m\u001b[1;33m[\u001b[0m\u001b[1;33m-\u001b[0m\u001b[1;36m2\u001b[0m\u001b[1;33m:\u001b[0m\u001b[1;33m]\u001b[0m\u001b[1;33m)\u001b[0m\u001b[1;33m.\u001b[0m\u001b[0mastype\u001b[0m\u001b[1;33m(\u001b[0m\u001b[0mint\u001b[0m\u001b[1;33m)\u001b[0m\u001b[1;33m\u001b[0m\u001b[0m\n",
        "\u001b[1;32m/usr/local/lib/python2.7/dist-packages/pandas/core/series.pyc\u001b[0m in \u001b[0;36mmap\u001b[1;34m(self, arg, na_action)\u001b[0m\n\u001b[0;32m   2495\u001b[0m             \u001b[1;32mreturn\u001b[0m \u001b[0mSeries\u001b[0m\u001b[1;33m(\u001b[0m\u001b[0mnew_values\u001b[0m\u001b[1;33m,\u001b[0m \u001b[0mindex\u001b[0m\u001b[1;33m=\u001b[0m\u001b[0mself\u001b[0m\u001b[1;33m.\u001b[0m\u001b[0mindex\u001b[0m\u001b[1;33m,\u001b[0m \u001b[0mname\u001b[0m\u001b[1;33m=\u001b[0m\u001b[0mself\u001b[0m\u001b[1;33m.\u001b[0m\u001b[0mname\u001b[0m\u001b[1;33m)\u001b[0m\u001b[1;33m\u001b[0m\u001b[0m\n\u001b[0;32m   2496\u001b[0m         \u001b[1;32melse\u001b[0m\u001b[1;33m:\u001b[0m\u001b[1;33m\u001b[0m\u001b[0m\n\u001b[1;32m-> 2497\u001b[1;33m             \u001b[0mmapped\u001b[0m \u001b[1;33m=\u001b[0m \u001b[0mmap_f\u001b[0m\u001b[1;33m(\u001b[0m\u001b[0mvalues\u001b[0m\u001b[1;33m,\u001b[0m \u001b[0marg\u001b[0m\u001b[1;33m)\u001b[0m\u001b[1;33m\u001b[0m\u001b[0m\n\u001b[0m\u001b[0;32m   2498\u001b[0m             \u001b[1;32mreturn\u001b[0m \u001b[0mSeries\u001b[0m\u001b[1;33m(\u001b[0m\u001b[0mmapped\u001b[0m\u001b[1;33m,\u001b[0m \u001b[0mindex\u001b[0m\u001b[1;33m=\u001b[0m\u001b[0mself\u001b[0m\u001b[1;33m.\u001b[0m\u001b[0mindex\u001b[0m\u001b[1;33m,\u001b[0m \u001b[0mname\u001b[0m\u001b[1;33m=\u001b[0m\u001b[0mself\u001b[0m\u001b[1;33m.\u001b[0m\u001b[0mname\u001b[0m\u001b[1;33m)\u001b[0m\u001b[1;33m\u001b[0m\u001b[0m\n\u001b[0;32m   2499\u001b[0m \u001b[1;33m\u001b[0m\u001b[0m\n",
        "\u001b[1;32m/usr/local/lib/python2.7/dist-packages/pandas/lib.so\u001b[0m in \u001b[0;36mpandas.lib.map_infer (pandas/lib.c:42840)\u001b[1;34m()\u001b[0m\n",
        "\u001b[1;32m<ipython-input-21-8012a355c195>\u001b[0m in \u001b[0;36m<lambda>\u001b[1;34m(x)\u001b[0m\n\u001b[0;32m      2\u001b[0m \u001b[1;31m#Note the astype(int) at the end of these lines to coerce the column to a numeric type\u001b[0m\u001b[1;33m\u001b[0m\u001b[1;33m\u001b[0m\u001b[0m\n\u001b[0;32m      3\u001b[0m \u001b[1;32mimport\u001b[0m \u001b[0mre\u001b[0m\u001b[1;33m\u001b[0m\u001b[0m\n\u001b[1;32m----> 4\u001b[1;33m \u001b[0mdsDistrict\u001b[0m\u001b[1;33m[\u001b[0m\u001b[1;34m'JURISDICTION NAME'\u001b[0m\u001b[1;33m]\u001b[0m \u001b[1;33m=\u001b[0m \u001b[0mdsDistrict\u001b[0m\u001b[1;33m[\u001b[0m\u001b[1;34m'JURISDICTION NAME'\u001b[0m\u001b[1;33m]\u001b[0m\u001b[1;33m.\u001b[0m\u001b[0mmap\u001b[0m\u001b[1;33m(\u001b[0m\u001b[1;32mlambda\u001b[0m \u001b[0mx\u001b[0m\u001b[1;33m:\u001b[0m \u001b[0mre\u001b[0m\u001b[1;33m.\u001b[0m\u001b[0mmatch\u001b[0m\u001b[1;33m(\u001b[0m\u001b[1;34m'([A-Za-z]*\\s)([0-9]*)'\u001b[0m\u001b[1;33m,\u001b[0m \u001b[0mx\u001b[0m\u001b[1;33m)\u001b[0m\u001b[1;33m.\u001b[0m\u001b[0mgroup\u001b[0m\u001b[1;33m(\u001b[0m\u001b[1;36m2\u001b[0m\u001b[1;33m)\u001b[0m\u001b[1;33m)\u001b[0m\u001b[1;33m.\u001b[0m\u001b[0mastype\u001b[0m\u001b[1;33m(\u001b[0m\u001b[0mint\u001b[0m\u001b[1;33m)\u001b[0m\u001b[1;33m\u001b[0m\u001b[0m\n\u001b[0m\u001b[0;32m      5\u001b[0m \u001b[0mdsAttendEnroll\u001b[0m\u001b[1;33m.\u001b[0m\u001b[0mDistrict\u001b[0m \u001b[1;33m=\u001b[0m \u001b[0mdsAttendEnroll\u001b[0m\u001b[1;33m.\u001b[0m\u001b[0mDistrict\u001b[0m\u001b[1;33m.\u001b[0m\u001b[0mmap\u001b[0m\u001b[1;33m(\u001b[0m\u001b[1;32mlambda\u001b[0m \u001b[0mx\u001b[0m\u001b[1;33m:\u001b[0m \u001b[0mx\u001b[0m\u001b[1;33m[\u001b[0m\u001b[1;33m-\u001b[0m\u001b[1;36m2\u001b[0m\u001b[1;33m:\u001b[0m\u001b[1;33m]\u001b[0m\u001b[1;33m)\u001b[0m\u001b[1;33m.\u001b[0m\u001b[0mastype\u001b[0m\u001b[1;33m(\u001b[0m\u001b[0mint\u001b[0m\u001b[1;33m)\u001b[0m\u001b[1;33m\u001b[0m\u001b[0m\n",
        "\u001b[1;32m/usr/lib/python2.7/re.pyc\u001b[0m in \u001b[0;36mmatch\u001b[1;34m(pattern, string, flags)\u001b[0m\n\u001b[0;32m    135\u001b[0m     \"\"\"Try to apply the pattern at the start of the string, returning\n\u001b[0;32m    136\u001b[0m     a match object, or None if no match was found.\"\"\"\n\u001b[1;32m--> 137\u001b[1;33m     \u001b[1;32mreturn\u001b[0m \u001b[0m_compile\u001b[0m\u001b[1;33m(\u001b[0m\u001b[0mpattern\u001b[0m\u001b[1;33m,\u001b[0m \u001b[0mflags\u001b[0m\u001b[1;33m)\u001b[0m\u001b[1;33m.\u001b[0m\u001b[0mmatch\u001b[0m\u001b[1;33m(\u001b[0m\u001b[0mstring\u001b[0m\u001b[1;33m)\u001b[0m\u001b[1;33m\u001b[0m\u001b[0m\n\u001b[0m\u001b[0;32m    138\u001b[0m \u001b[1;33m\u001b[0m\u001b[0m\n\u001b[0;32m    139\u001b[0m \u001b[1;32mdef\u001b[0m \u001b[0msearch\u001b[0m\u001b[1;33m(\u001b[0m\u001b[0mpattern\u001b[0m\u001b[1;33m,\u001b[0m \u001b[0mstring\u001b[0m\u001b[1;33m,\u001b[0m \u001b[0mflags\u001b[0m\u001b[1;33m=\u001b[0m\u001b[1;36m0\u001b[0m\u001b[1;33m)\u001b[0m\u001b[1;33m:\u001b[0m\u001b[1;33m\u001b[0m\u001b[0m\n",
        "\u001b[1;31mTypeError\u001b[0m: expected string or buffer"
       ]
      }
     ],
     "prompt_number": 21
    },
    {
     "cell_type": "code",
     "collapsed": false,
     "input": [
      "#We can now see the keys match\n",
      "pd.DataFrame(data=[dsProgReports['DISTRICT'][:3], dsDistrict['JURISDICTION NAME'][:3], dsAttendEnroll['District'][:3]])"
     ],
     "language": "python",
     "metadata": {},
     "outputs": []
    }
   ],
   "metadata": {}
  }
 ]
}